{
 "cells": [
  {
   "cell_type": "markdown",
   "metadata": {},
   "source": [
    "# Signup Implementation\n",
    "\n",
    "\n",
    "```python\n",
    "@app.route('/signup', methods=['GET', 'POST'])\n",
    "def signup():\n",
    "    if current_user.is_authenticated:\n",
    "        return redirect(url_for('home'))\n",
    "\n",
    "    message = ''\n",
    "    if request.method == 'POST':\n",
    "        username = request.form.get('username')\n",
    "        email = request.form.get('email')\n",
    "        password = request.form.get('password')\n",
    "        try:\n",
    "            save_user(username, email, password)\n",
    "            return redirect(url_for('login'))\n",
    "        except DuplicateKeyError:\n",
    "            message = \"User already exists!\"\n",
    "    return render_template('signup.html', message=message)\n",
    "```"
   ]
  }
 ],
 "metadata": {
  "kernelspec": {
   "display_name": "Python 3",
   "language": "python",
   "name": "python3"
  },
  "language_info": {
   "codemirror_mode": {
    "name": "ipython",
    "version": 3
   },
   "file_extension": ".py",
   "mimetype": "text/x-python",
   "name": "python",
   "nbconvert_exporter": "python",
   "pygments_lexer": "ipython3",
   "version": "3.6.8"
  }
 },
 "nbformat": 4,
 "nbformat_minor": 2
}
