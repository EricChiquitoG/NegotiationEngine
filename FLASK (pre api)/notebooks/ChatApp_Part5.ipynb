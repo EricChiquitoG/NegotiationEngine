{
 "cells": [
  {
   "cell_type": "markdown",
   "metadata": {},
   "source": [
    "# Chat Room Design\n",
    "\n",
    "## Room Schema\n",
    "- \\_id\n",
    "- name\n",
    "- created_at\n",
    "- created_by\n",
    "    \n",
    "    \n",
    "## Room member Schema\n",
    "- \\_id: (room_id, username)\n",
    "- room_name\n",
    "- is_room_admin\n",
    "- added_at\n",
    "- added_by\n",
    "\n",
    "\n",
    "## Room operations\n",
    "\n",
    "- ### Create Room\n",
    "    - Input: room_name, members\n",
    "    - DB operations:\n",
    "        - save_room\n",
    "        - add_room_members\n",
    "\n",
    "- ### View Room\n",
    "    - Input: room_id\n",
    "    - DB operations:\n",
    "        - is_room_member\n",
    "        - get_room\n",
    "        - get_room_members\n",
    "\n",
    "\n",
    "- ### Edit Room\n",
    "    - Input: room_id, room_name, members\n",
    "    - DB operations:\n",
    "        - get_room\n",
    "        - get_room_members\n",
    "        - is_room_admin\n",
    "        - update_room\n",
    "        - add_room_members\n",
    "        - remove_room_members\n",
    "        \n",
    "\n",
    "- ### Homepage\n",
    "    - get_rooms_for_user"
   ]
  }
 ],
 "metadata": {
  "kernelspec": {
   "display_name": "Python 3",
   "language": "python",
   "name": "python3"
  },
  "language_info": {
   "codemirror_mode": {
    "name": "ipython",
    "version": 3
   },
   "file_extension": ".py",
   "mimetype": "text/x-python",
   "name": "python",
   "nbconvert_exporter": "python",
   "pygments_lexer": "ipython3",
   "version": "3.6.8"
  }
 },
 "nbformat": 4,
 "nbformat_minor": 2
}
