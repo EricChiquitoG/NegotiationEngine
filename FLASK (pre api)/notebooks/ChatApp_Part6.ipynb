{
 "cells": [
  {
   "cell_type": "markdown",
   "metadata": {},
   "source": [
    "# Chat History Design\n",
    "\n",
    "## Message Schema\n",
    "\n",
    "- \\_id\n",
    "- room_id\n",
    "- text\n",
    "- sender\n",
    "- created_at\n",
    "\n",
    "\n",
    "## Message Operations\n",
    "\n",
    "- save_message\n",
    "\n",
    "- get_message\n",
    "\n",
    "### Paginated Chat History\n",
    "\n",
    "```python\n",
    "MESSAGE_FETCH_LIMIT = 3\n",
    "\n",
    "\n",
    "def get_messages(room_id, page=0):\n",
    "    offset = page * MESSAGE_FETCH_LIMIT\n",
    "    messages = list(\n",
    "        messages_collection.find({'room_id': room_id}).sort('_id', DESCENDING).limit(MESSAGE_FETCH_LIMIT).skip(offset))\n",
    "    for message in messages:\n",
    "        message['created_at'] = message['created_at'].strftime(\"%d %b, %H:%M\")\n",
    "    return messages[::-1]\n",
    "```"
   ]
  }
 ],
 "metadata": {
  "kernelspec": {
   "display_name": "Python 3",
   "language": "python",
   "name": "python3"
  },
  "language_info": {
   "codemirror_mode": {
    "name": "ipython",
    "version": 3
   },
   "file_extension": ".py",
   "mimetype": "text/x-python",
   "name": "python",
   "nbconvert_exporter": "python",
   "pygments_lexer": "ipython3",
   "version": "3.6.8"
  }
 },
 "nbformat": 4,
 "nbformat_minor": 2
}
