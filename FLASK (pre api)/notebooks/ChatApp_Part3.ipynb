{
 "cells": [
  {
   "cell_type": "markdown",
   "metadata": {},
   "source": [
    "# Login Implementation\n",
    "\n",
    "## Installation\n",
    "\n",
    "[flask-login](https://flask-login.readthedocs.io/en/latest/)\n",
    "\n",
    "```\n",
    "pip install flask-login\n",
    "```"
   ]
  },
  {
   "cell_type": "markdown",
   "metadata": {},
   "source": [
    "## User custom class\n",
    "\n",
    "```python\n",
    "from werkzeug.security import check_password_hash\n",
    "\n",
    "\n",
    "class User:\n",
    "\n",
    "    def __init__(self, username, email, password):\n",
    "        self.username = username\n",
    "        self.email = email\n",
    "        self.password = password\n",
    "\n",
    "    @staticmethod\n",
    "    def is_authenticated():\n",
    "        return True\n",
    "\n",
    "    @staticmethod\n",
    "    def is_active():\n",
    "        return True\n",
    "\n",
    "    @staticmethod\n",
    "    def is_anonymous():\n",
    "        return False\n",
    "\n",
    "    def get_id(self):\n",
    "        return self.username\n",
    "\n",
    "    def check_password(self, password_input):\n",
    "        return check_password_hash(self.password, password_input)\n",
    "```"
   ]
  }
 ],
 "metadata": {
  "kernelspec": {
   "display_name": "Python 3",
   "language": "python",
   "name": "python3"
  },
  "language_info": {
   "codemirror_mode": {
    "name": "ipython",
    "version": 3
   },
   "file_extension": ".py",
   "mimetype": "text/x-python",
   "name": "python",
   "nbconvert_exporter": "python",
   "pygments_lexer": "ipython3",
   "version": "3.6.8"
  }
 },
 "nbformat": 4,
 "nbformat_minor": 2
}
