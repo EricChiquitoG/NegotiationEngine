{
 "cells": [
  {
   "cell_type": "markdown",
   "metadata": {},
   "source": [
    "# Building a Basic Chat Application using Flask and Socket.IO\n",
    "\n",
    "![](https://www.riosoft.com.br/wp-content/uploads/2019/04/post_chat.png)\n",
    "\n",
    "### [Socket.IO](https://socket.io)\n",
    "\n",
    ">Socket.IO is a [transport protocol](https://github.com/socketio/socket.io-protocol) that enables real-time bidirectional event-based communication between clients (typically, though not always, web browsers) and a server. The official implementations of the client and server components are written in **JavaScript**.\n",
    "\n",
    "### [Flask](https://www.palletsprojects.com/p/flask/)\n",
    "\n",
    ">Flask is a micro web framework written in Python. It is classified as a microframework because it does not require particular tools or libraries. It has no database abstraction layer, form validation, or any other components where pre-existing third-party libraries provide common functions.\n",
    "\n",
    "\n",
    "### [flask-socketio](https://flask-socketio.readthedocs.io/en/latest/)\n",
    "\n",
    ">Socket.IO integration for Flask applications. It is built over [python-socketio](https://python-socketio.readthedocs.io/en/latest/) which provides Python implementations of a Socket.IO client and server.\n",
    "\n",
    "\n",
    "### [eventlet](http://eventlet.net/)\n",
    "\n",
    ">Eventlet is a concurrent networking library for Python that allows you to change how you run your code, not how you write it."
   ]
  },
  {
   "cell_type": "markdown",
   "metadata": {},
   "source": [
    "## Flow of events\n",
    "\n",
    "![](https://i.imgur.com/pBKfhI1.png)"
   ]
  },
  {
   "cell_type": "markdown",
   "metadata": {},
   "source": [
    "## Requirements\n",
    "\n",
    "### Server \n",
    "\n",
    "```\n",
    "flask\n",
    "flask-socketio\n",
    "eventlet\n",
    "```\n",
    "\n",
    "### Client\n",
    "```\n",
    "<script src=\"https://cdnjs.cloudflare.com/ajax/libs/socket.io/2.3.0/socket.io.js\"></script>\n",
    "```"
   ]
  }
 ],
 "metadata": {
  "kernelspec": {
   "display_name": "Python 3",
   "language": "python",
   "name": "python3"
  },
  "language_info": {
   "codemirror_mode": {
    "name": "ipython",
    "version": 3
   },
   "file_extension": ".py",
   "mimetype": "text/x-python",
   "name": "python",
   "nbconvert_exporter": "python",
   "pygments_lexer": "ipython3",
   "version": "3.6.8"
  }
 },
 "nbformat": 4,
 "nbformat_minor": 2
}
