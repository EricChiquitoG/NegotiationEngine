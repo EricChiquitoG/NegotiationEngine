{
 "cells": [
  {
   "cell_type": "markdown",
   "metadata": {},
   "source": [
    "# mongoDB Database Setup\n",
    "\n",
    "![](https://webassets.mongodb.com/_com_assets/cms/MongoDB_Logo_FullColorBlack_RGB-4td3yuxzjs.png)"
   ]
  },
  {
   "cell_type": "markdown",
   "metadata": {},
   "source": [
    "[Video Tutorial](https://www.youtube.com/watch?v=VQnmcBnguPY)\n",
    "\n",
    "## Installation\n",
    "\n",
    "[PyMongo](https://api.mongodb.com/python/current/)\n",
    "\n",
    "```\n",
    "pip install pymongo\n",
    "```\n",
    "\n",
    "\n",
    "## User Schema\n",
    "\n",
    "- \\_id: username\n",
    "- email\n",
    "- password\n",
    "\n",
    "## User Operations\n",
    "\n",
    "- save_user\n",
    "- get_user"
   ]
  }
 ],
 "metadata": {
  "kernelspec": {
   "display_name": "Python 3",
   "language": "python",
   "name": "python3"
  },
  "language_info": {
   "codemirror_mode": {
    "name": "ipython",
    "version": 3
   },
   "file_extension": ".py",
   "mimetype": "text/x-python",
   "name": "python",
   "nbconvert_exporter": "python",
   "pygments_lexer": "ipython3",
   "version": "3.6.8"
  }
 },
 "nbformat": 4,
 "nbformat_minor": 2
}
